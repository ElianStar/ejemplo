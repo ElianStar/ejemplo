{
  "nbformat": 4,
  "nbformat_minor": 0,
  "metadata": {
    "colab": {
      "name": "texto_a_voz.ipynb",
      "provenance": [],
      "collapsed_sections": [],
      "authorship_tag": "ABX9TyNGHikz8F/raOJpfU9eAbHh",
      "include_colab_link": true
    },
    "kernelspec": {
      "name": "python3",
      "display_name": "Python 3"
    }
  },
  "cells": [
    {
      "cell_type": "markdown",
      "metadata": {
        "id": "view-in-github",
        "colab_type": "text"
      },
      "source": [
        "<a href=\"https://colab.research.google.com/github/ElianStar/ejemplo/blob/master/texto_a_voz.ipynb\" target=\"_parent\"><img src=\"https://colab.research.google.com/assets/colab-badge.svg\" alt=\"Open In Colab\"/></a>"
      ]
    },
    {
      "cell_type": "code",
      "metadata": {
        "id": "6Nf-arG_dopm"
      },
      "source": [
        "pip install gTTS"
      ],
      "execution_count": null,
      "outputs": []
    },
    {
      "cell_type": "code",
      "metadata": {
        "id": "dXQO77IadDvo"
      },
      "source": [
        "# Importamos el paquete\r\n",
        "from gtts import gTTS \r\n",
        " \r\n",
        "  \r\n",
        "# Texto a convertir en audio \r\n",
        " \r\n",
        "mytext = \"Hola, saludos desde Facialix\"\r\n",
        " \r\n",
        "  \r\n",
        "# Realizamos la conversión del texto a voz \r\n",
        "tts = gTTS(text=mytext, lang='es', slow=False) \r\n",
        " \r\n",
        "  \r\n",
        "# Finalmente guardamos el archivo de Audio\r\n",
        " \r\n",
        "tts.save(\"facialix.mp3\") "
      ],
      "execution_count": 7,
      "outputs": []
    }
  ]
}